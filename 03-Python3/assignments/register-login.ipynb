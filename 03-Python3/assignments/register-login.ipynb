{
 "cells": [
  {
   "cell_type": "markdown",
   "metadata": {},
   "source": [
    "### Register/Login App"
   ]
  },
  {
   "cell_type": "code",
   "execution_count": 120,
   "metadata": {},
   "outputs": [],
   "source": [
    "class User:\n",
    "    \n",
    "    def getRecords(self):\n",
    "        try:\n",
    "            with open(\"database.dat\",\"r\") as db:\n",
    "                records = db.readlines()\n",
    "            return records\n",
    "        except:\n",
    "            with open(\"database.dat\",\"w\") as db:\n",
    "                db.write(\"\")\n",
    "            return [] \n",
    "    \n",
    "    def insertRecord(self,username,passwd):\n",
    "        if (username in [\"\"]) \\\n",
    "            or (passwd in [\"\"]) \\\n",
    "            or (f\"{username},{passwd}\\n\" in self.getRecords()): return False\n",
    "        try:\n",
    "            with open(\"database.dat\",\"a\") as db:\n",
    "                db.write(f\"{username},{passwd}\\n\")\n",
    "        except:\n",
    "            return False\n",
    "        return True\n",
    "        \n",
    "    \n",
    "    def register(self, username, passwd):\n",
    "        return self.insertRecord(username,passwd)\n",
    "    \n",
    "    def login(self,username,passwd):\n",
    "        records = self.getRecords()\n",
    "        if(f\"{username},{passwd}\\n\" in records): return True\n",
    "        else: return False\n",
    "                "
   ]
  },
  {
   "cell_type": "code",
   "execution_count": 131,
   "metadata": {},
   "outputs": [
    {
     "name": "stdout",
     "output_type": "stream",
     "text": [
      "would you like to continue?(yes|y/no|n):n\n"
     ]
    }
   ],
   "source": [
    "def useApp():\n",
    "    user = User()\n",
    "    while input(\"would you like to continue?(yes|y/no|n):\").lower().startswith(\"y\"):\n",
    "        if(input(\"Register or login (r/l)\").lower().startswith(\"r\")):\n",
    "            if(user.register(input(\"Enter your username:\"),input(\"Type your passwd:\"))): print(\"Register usr successfully\")\n",
    "            else: print(\"unable to register user\")\n",
    "        else:\n",
    "            if(user.login(input(\"type your username:\"),input(\"type your passwd:\"))): print(\"Login successfully\")\n",
    "            else: print(\"unable to login user\")\n",
    "                \n",
    "useApp()"
   ]
  },
  {
   "cell_type": "code",
   "execution_count": null,
   "metadata": {},
   "outputs": [],
   "source": []
  }
 ],
 "metadata": {
  "kernelspec": {
   "display_name": "Python 3",
   "language": "python",
   "name": "python3"
  },
  "language_info": {
   "codemirror_mode": {
    "name": "ipython",
    "version": 3
   },
   "file_extension": ".py",
   "mimetype": "text/x-python",
   "name": "python",
   "nbconvert_exporter": "python",
   "pygments_lexer": "ipython3",
   "version": "3.8.3"
  }
 },
 "nbformat": 4,
 "nbformat_minor": 4
}
